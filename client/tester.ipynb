{
 "cells": [
  {
   "cell_type": "code",
   "execution_count": 1,
   "id": "22995371",
   "metadata": {},
   "outputs": [
    {
     "name": "stderr",
     "output_type": "stream",
     "text": [
      "/Users/jonashover/Library/Python/3.9/lib/python/site-packages/urllib3/__init__.py:35: NotOpenSSLWarning: urllib3 v2 only supports OpenSSL 1.1.1+, currently the 'ssl' module is compiled with 'LibreSSL 2.8.3'. See: https://github.com/urllib3/urllib3/issues/3020\n",
      "  warnings.warn(\n"
     ]
    }
   ],
   "source": [
    "from src import script"
   ]
  },
  {
   "cell_type": "code",
   "execution_count": 2,
   "id": "189f71ac",
   "metadata": {},
   "outputs": [],
   "source": [
    "tsys = script.Usersystem_client()"
   ]
  },
  {
   "cell_type": "code",
   "execution_count": null,
   "id": "e59fef7a",
   "metadata": {},
   "outputs": [
    {
     "name": "stdout",
     "output_type": "stream",
     "text": [
      "Pin format korrekt!\n",
      "PINs stimmen nicht überein, bitte die neue PIN eingeben!\n",
      "Pin format korrekt!\n",
      "0\n"
     ]
    },
    {
     "data": {
      "text/plain": [
       "False"
      ]
     },
     "execution_count": 3,
     "metadata": {},
     "output_type": "execute_result"
    }
   ],
   "source": [
    "tsys.singup(\"5432\")"
   ]
  },
  {
   "cell_type": "code",
   "execution_count": null,
   "id": "661f2f67",
   "metadata": {},
   "outputs": [],
   "source": []
  }
 ],
 "metadata": {
  "kernelspec": {
   "display_name": "Python 3",
   "language": "python",
   "name": "python3"
  },
  "language_info": {
   "codemirror_mode": {
    "name": "ipython",
    "version": 3
   },
   "file_extension": ".py",
   "mimetype": "text/x-python",
   "name": "python",
   "nbconvert_exporter": "python",
   "pygments_lexer": "ipython3",
   "version": "3.9.6"
  }
 },
 "nbformat": 4,
 "nbformat_minor": 5
}
