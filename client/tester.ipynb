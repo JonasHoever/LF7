{
 "cells": [
  {
   "cell_type": "code",
   "execution_count": 9,
   "id": "22995371",
   "metadata": {},
   "outputs": [],
   "source": [
    "from src import script"
   ]
  },
  {
   "cell_type": "code",
   "execution_count": null,
   "id": "189f71ac",
   "metadata": {},
   "outputs": [],
   "source": [
    "tsys = script.Usersystem_client()\n",
    "csys = script.Client_Short_Function()"
   ]
  },
  {
   "cell_type": "code",
   "execution_count": 14,
   "id": "e59fef7a",
   "metadata": {},
   "outputs": [
    {
     "name": "stdout",
     "output_type": "stream",
     "text": [
      "Ungültiger Pin, bitte erneut eingeben!\n",
      "Ungültiger Pin, bitte erneut eingeben!\n",
      "Ungültiger Pin, bitte erneut eingeben!\n",
      "Ungültiger Pin, bitte erneut eingeben!\n",
      "Ungültiger Pin, bitte erneut eingeben!\n",
      "Ungültiger Pin, bitte erneut eingeben!\n",
      "Ungültiger Pin, bitte erneut eingeben!\n",
      "Ungültiger Pin, bitte erneut eingeben!\n",
      "Ungültiger Pin, bitte erneut eingeben!\n",
      "Ungültiger Pin, bitte erneut eingeben!\n",
      "Ungültiger Pin, bitte erneut eingeben!\n",
      "Ungültiger Pin, bitte erneut eingeben!\n",
      "Ungültiger Pin, bitte erneut eingeben!\n",
      "Ungültiger Pin, bitte erneut eingeben!\n",
      "Pin format korrekt!\n",
      "PINs stimmen nicht überein, bitte die neue PIN eingeben!\n",
      "Pin format korrekt!\n"
     ]
    },
    {
     "data": {
      "text/plain": [
       "False"
      ]
     },
     "execution_count": 14,
     "metadata": {},
     "output_type": "execute_result"
    }
   ],
   "source": [
    "tsys.singup(\"2\")"
   ]
  },
  {
   "cell_type": "code",
   "execution_count": 15,
   "id": "ff7ab6de",
   "metadata": {},
   "outputs": [
    {
     "name": "stdout",
     "output_type": "stream",
     "text": [
      "True\n"
     ]
    },
    {
     "data": {
      "text/plain": [
       "True"
      ]
     },
     "execution_count": 15,
     "metadata": {},
     "output_type": "execute_result"
    }
   ],
   "source": [
    "tsys.request(2)"
   ]
  },
  {
   "cell_type": "code",
   "execution_count": 16,
   "id": "661f2f67",
   "metadata": {},
   "outputs": [
    {
     "name": "stdout",
     "output_type": "stream",
     "text": [
      "True\n"
     ]
    },
    {
     "data": {
      "text/plain": [
       "True"
      ]
     },
     "execution_count": 16,
     "metadata": {},
     "output_type": "execute_result"
    }
   ],
   "source": [
    "tsys.request(1234)"
   ]
  },
  {
   "cell_type": "code",
   "execution_count": null,
   "id": "ecf07aae",
   "metadata": {},
   "outputs": [],
   "source": []
  }
 ],
 "metadata": {
  "kernelspec": {
   "display_name": "Python 3",
   "language": "python",
   "name": "python3"
  },
  "language_info": {
   "codemirror_mode": {
    "name": "ipython",
    "version": 3
   },
   "file_extension": ".py",
   "mimetype": "text/x-python",
   "name": "python",
   "nbconvert_exporter": "python",
   "pygments_lexer": "ipython3",
   "version": "3.9.6"
  }
 },
 "nbformat": 4,
 "nbformat_minor": 5
}
