{
 "cells": [
  {
   "cell_type": "code",
   "execution_count": 1,
   "id": "3f9b21d8",
   "metadata": {},
   "outputs": [],
   "source": [
    "from src import script, db_setup"
   ]
  },
  {
   "cell_type": "code",
   "execution_count": 2,
   "id": "1f13c33a",
   "metadata": {},
   "outputs": [],
   "source": [
    "dbsys = db_setup.Init()\n",
    "usys = script.UserSystem()\n",
    "tsys = script.WorkTimeSystem()"
   ]
  },
  {
   "cell_type": "code",
   "execution_count": 3,
   "id": "46036d8f",
   "metadata": {},
   "outputs": [
    {
     "name": "stdout",
     "output_type": "stream",
     "text": [
      "Fehler beim anlegen einer users für 1234!\n",
      "1062 (23000): Duplicate entry '1234' for key 'nfc_tag'\n"
     ]
    },
    {
     "data": {
      "text/plain": [
       "False"
      ]
     },
     "execution_count": 3,
     "metadata": {},
     "output_type": "execute_result"
    }
   ],
   "source": [
    "usys.signup(1234,4321)"
   ]
  },
  {
   "cell_type": "code",
   "execution_count": 5,
   "id": "9699797a",
   "metadata": {},
   "outputs": [
    {
     "data": {
      "text/plain": [
       "True"
      ]
     },
     "execution_count": 5,
     "metadata": {},
     "output_type": "execute_result"
    }
   ],
   "source": [
    "tsys.start_session(1)"
   ]
  },
  {
   "cell_type": "code",
   "execution_count": 4,
   "id": "e504dc50",
   "metadata": {},
   "outputs": [
    {
     "data": {
      "text/plain": [
       "(True, 2)"
      ]
     },
     "execution_count": 4,
     "metadata": {},
     "output_type": "execute_result"
    }
   ],
   "source": [
    "tsys.check_status(1)"
   ]
  },
  {
   "cell_type": "code",
   "execution_count": 6,
   "id": "19f5992e",
   "metadata": {},
   "outputs": [
    {
     "data": {
      "text/plain": [
       "True"
      ]
     },
     "execution_count": 6,
     "metadata": {},
     "output_type": "execute_result"
    }
   ],
   "source": [
    "tsys.end_session(1,2)"
   ]
  },
  {
   "cell_type": "code",
   "execution_count": 7,
   "id": "51e6ba86",
   "metadata": {},
   "outputs": [
    {
     "name": "stdout",
     "output_type": "stream",
     "text": [
      "Keine aktive Session gefunden!\n"
     ]
    },
    {
     "data": {
      "text/plain": [
       "(False, None)"
      ]
     },
     "execution_count": 7,
     "metadata": {},
     "output_type": "execute_result"
    }
   ],
   "source": [
    "tsys.check_status(1)"
   ]
  },
  {
   "cell_type": "code",
   "execution_count": null,
   "id": "9ef8c848",
   "metadata": {},
   "outputs": [],
   "source": []
  }
 ],
 "metadata": {
  "kernelspec": {
   "display_name": "Python 3",
   "language": "python",
   "name": "python3"
  },
  "language_info": {
   "codemirror_mode": {
    "name": "ipython",
    "version": 3
   },
   "file_extension": ".py",
   "mimetype": "text/x-python",
   "name": "python",
   "nbconvert_exporter": "python",
   "pygments_lexer": "ipython3",
   "version": "3.9.6"
  }
 },
 "nbformat": 4,
 "nbformat_minor": 5
}
